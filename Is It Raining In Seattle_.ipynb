{
 "cells": [
  {
   "cell_type": "code",
   "execution_count": null,
   "metadata": {},
   "outputs": [],
   "source": [
    "# By Sandy Vasquez 12/03/2019\n",
    "# data set taken from https://www.kaggle.com/rtatman/did-it-rain-in-seattle-19482017/data\n",
    "# Context:This dataset contains complete records of daily rainfall patterns from January 1st, 1948 to December 12, 2017.\n",
    "# Content:This data was collected at the Seattle-Tacoma International Airport. The dataset contains five columns:\n",
    "# DATE = the date of the observation\n",
    "# PRCP = the amount of precipitation, in inches\n",
    "# TMAX = the maximum temperature for that day, in degrees Fahrenheit\n",
    "# TMIN = the minimum temperature for that day, in degrees Fahrenheit\n",
    "# RAIN = TRUE if rain was observed on that day, FALSE if it was not"
   ]
  },
  {
   "cell_type": "code",
   "execution_count": null,
   "metadata": {},
   "outputs": [],
   "source": [
    "import pandas as pd\n",
    "import matplotlib.pyplot as plt\n",
    "from matplotlib.pyplot import pie, axis, show\n",
    "plt.show()"
   ]
  },
  {
   "cell_type": "code",
   "execution_count": 70,
   "metadata": {},
   "outputs": [],
   "source": [
    "df_seattle=pd.read_csv('desktop/seattleWeather_1948-2017.csv')"
   ]
  },
  {
   "cell_type": "code",
   "execution_count": 71,
   "metadata": {},
   "outputs": [
    {
     "data": {
      "text/html": [
       "<div>\n",
       "<style scoped>\n",
       "    .dataframe tbody tr th:only-of-type {\n",
       "        vertical-align: middle;\n",
       "    }\n",
       "\n",
       "    .dataframe tbody tr th {\n",
       "        vertical-align: top;\n",
       "    }\n",
       "\n",
       "    .dataframe thead th {\n",
       "        text-align: right;\n",
       "    }\n",
       "</style>\n",
       "<table border=\"1\" class=\"dataframe\">\n",
       "  <thead>\n",
       "    <tr style=\"text-align: right;\">\n",
       "      <th></th>\n",
       "      <th>DATE</th>\n",
       "      <th>PRCP</th>\n",
       "      <th>TMAX</th>\n",
       "      <th>TMIN</th>\n",
       "      <th>RAIN</th>\n",
       "    </tr>\n",
       "  </thead>\n",
       "  <tbody>\n",
       "    <tr>\n",
       "      <th>0</th>\n",
       "      <td>1948-01-01</td>\n",
       "      <td>0.47</td>\n",
       "      <td>51</td>\n",
       "      <td>42</td>\n",
       "      <td>True</td>\n",
       "    </tr>\n",
       "    <tr>\n",
       "      <th>1</th>\n",
       "      <td>1948-01-02</td>\n",
       "      <td>0.59</td>\n",
       "      <td>45</td>\n",
       "      <td>36</td>\n",
       "      <td>True</td>\n",
       "    </tr>\n",
       "    <tr>\n",
       "      <th>2</th>\n",
       "      <td>1948-01-03</td>\n",
       "      <td>0.42</td>\n",
       "      <td>45</td>\n",
       "      <td>35</td>\n",
       "      <td>True</td>\n",
       "    </tr>\n",
       "    <tr>\n",
       "      <th>3</th>\n",
       "      <td>1948-01-04</td>\n",
       "      <td>0.31</td>\n",
       "      <td>45</td>\n",
       "      <td>34</td>\n",
       "      <td>True</td>\n",
       "    </tr>\n",
       "    <tr>\n",
       "      <th>4</th>\n",
       "      <td>1948-01-05</td>\n",
       "      <td>0.17</td>\n",
       "      <td>45</td>\n",
       "      <td>32</td>\n",
       "      <td>True</td>\n",
       "    </tr>\n",
       "  </tbody>\n",
       "</table>\n",
       "</div>"
      ],
      "text/plain": [
       "         DATE  PRCP  TMAX  TMIN  RAIN\n",
       "0  1948-01-01  0.47    51    42  True\n",
       "1  1948-01-02  0.59    45    36  True\n",
       "2  1948-01-03  0.42    45    35  True\n",
       "3  1948-01-04  0.31    45    34  True\n",
       "4  1948-01-05  0.17    45    32  True"
      ]
     },
     "execution_count": 71,
     "metadata": {},
     "output_type": "execute_result"
    }
   ],
   "source": [
    "df_seattle.head()"
   ]
  },
  {
   "cell_type": "code",
   "execution_count": 82,
   "metadata": {},
   "outputs": [
    {
     "name": "stdout",
     "output_type": "stream",
     "text": [
      "             DATE  PRCP  TMAX  TMIN   RAIN\n",
      "25546  2017-12-10   0.0    49    34  False\n",
      "25547  2017-12-11   0.0    49    29  False\n",
      "25548  2017-12-12   0.0    46    32  False\n",
      "25549  2017-12-13   0.0    48    34  False\n",
      "25550  2017-12-14   0.0    50    36  False\n"
     ]
    }
   ],
   "source": [
    "print(df_seattle.tail())"
   ]
  },
  {
   "cell_type": "code",
   "execution_count": 81,
   "metadata": {},
   "outputs": [
    {
     "data": {
      "text/plain": [
       "(25551, 5)"
      ]
     },
     "execution_count": 81,
     "metadata": {},
     "output_type": "execute_result"
    }
   ],
   "source": [
    "#how many rows and columns?\n",
    "df_seattle.shape"
   ]
  },
  {
   "cell_type": "code",
   "execution_count": 74,
   "metadata": {},
   "outputs": [
    {
     "data": {
      "text/plain": [
       "<bound method NDFrame.describe of              DATE  PRCP  TMAX  TMIN   RAIN\n",
       "0      1948-01-01  0.47    51    42   True\n",
       "1      1948-01-02  0.59    45    36   True\n",
       "2      1948-01-03  0.42    45    35   True\n",
       "3      1948-01-04  0.31    45    34   True\n",
       "4      1948-01-05  0.17    45    32   True\n",
       "5      1948-01-06  0.44    48    39   True\n",
       "6      1948-01-07  0.41    50    40   True\n",
       "7      1948-01-08  0.04    48    35   True\n",
       "8      1948-01-09  0.12    50    31   True\n",
       "9      1948-01-10  0.74    43    34   True\n",
       "10     1948-01-11  0.01    42    32   True\n",
       "11     1948-01-12  0.00    41    26  False\n",
       "12     1948-01-13  0.00    45    29  False\n",
       "13     1948-01-14  0.00    38    26  False\n",
       "14     1948-01-15  0.00    34    31  False\n",
       "15     1948-01-16  0.00    34    28  False\n",
       "16     1948-01-17  0.00    35    29  False\n",
       "17     1948-01-18  0.00    33    28  False\n",
       "18     1948-01-19  0.00    34    27  False\n",
       "19     1948-01-20  0.00    36    29  False\n",
       "20     1948-01-21  0.00    48    32  False\n",
       "21     1948-01-22  0.21    47    44   True\n",
       "22     1948-01-23  0.00    47    43  False\n",
       "23     1948-01-24  0.10    45    34   True\n",
       "24     1948-01-25  0.00    46    30  False\n",
       "25     1948-01-26  0.00    45    32  False\n",
       "26     1948-01-27  0.00    53    33  False\n",
       "27     1948-01-28  0.00    53    25  False\n",
       "28     1948-01-29  0.22    42    34   True\n",
       "29     1948-01-30  0.03    47    30   True\n",
       "...           ...   ...   ...   ...    ...\n",
       "25521  2017-11-15  0.46    53    43   True\n",
       "25522  2017-11-16  0.16    44    42   True\n",
       "25523  2017-11-17  0.00    50    42  False\n",
       "25524  2017-11-18  0.00    52    41  False\n",
       "25525  2017-11-19  0.58    53    39   True\n",
       "25526  2017-11-20  0.63    50    41   True\n",
       "25527  2017-11-21  1.14    60    38   True\n",
       "25528  2017-11-22  0.52    68    56   True\n",
       "25529  2017-11-23  0.20    59    48   True\n",
       "25530  2017-11-24  0.01    52    46   True\n",
       "25531  2017-11-25  0.19    51    43   True\n",
       "25532  2017-11-26  0.25    58    42   True\n",
       "25533  2017-11-27  0.00    50    42  False\n",
       "25534  2017-11-28  0.68    47    43   True\n",
       "25535  2017-11-29  0.00    50    41  False\n",
       "25536  2017-11-30  0.27    46    41   True\n",
       "25537  2017-12-01  0.27    48    38   True\n",
       "25538  2017-12-02  0.79    44    41   True\n",
       "25539  2017-12-03  0.05    46    39   True\n",
       "25540  2017-12-04  0.00    45    34  False\n",
       "25541  2017-12-05  0.00    45    33  False\n",
       "25542  2017-12-06  0.00    52    36  False\n",
       "25543  2017-12-07  0.00    52    34  False\n",
       "25544  2017-12-08  0.00    43    29  False\n",
       "25545  2017-12-09  0.00    44    29  False\n",
       "25546  2017-12-10  0.00    49    34  False\n",
       "25547  2017-12-11  0.00    49    29  False\n",
       "25548  2017-12-12  0.00    46    32  False\n",
       "25549  2017-12-13  0.00    48    34  False\n",
       "25550  2017-12-14  0.00    50    36  False\n",
       "\n",
       "[25551 rows x 5 columns]>"
      ]
     },
     "execution_count": 74,
     "metadata": {},
     "output_type": "execute_result"
    }
   ],
   "source": [
    "df_seattle.describe"
   ]
  },
  {
   "cell_type": "code",
   "execution_count": 75,
   "metadata": {},
   "outputs": [
    {
     "data": {
      "text/plain": [
       "Index(['DATE', 'PRCP', 'TMAX', 'TMIN', 'RAIN'], dtype='object')"
      ]
     },
     "execution_count": 75,
     "metadata": {},
     "output_type": "execute_result"
    }
   ],
   "source": [
    "df_seattle.columns"
   ]
  },
  {
   "cell_type": "code",
   "execution_count": 76,
   "metadata": {},
   "outputs": [
    {
     "name": "stdout",
     "output_type": "stream",
     "text": [
      "<class 'pandas.core.frame.DataFrame'>\n",
      "RangeIndex: 25551 entries, 0 to 25550\n",
      "Data columns (total 5 columns):\n",
      "DATE    25551 non-null object\n",
      "PRCP    25548 non-null float64\n",
      "TMAX    25551 non-null int64\n",
      "TMIN    25551 non-null int64\n",
      "RAIN    25548 non-null object\n",
      "dtypes: float64(1), int64(2), object(2)\n",
      "memory usage: 998.2+ KB\n"
     ]
    }
   ],
   "source": [
    "#list data types\n",
    "df_seattle.info()"
   ]
  },
  {
   "cell_type": "code",
   "execution_count": 199,
   "metadata": {},
   "outputs": [
    {
     "data": {
      "text/plain": [
       "<matplotlib.axes._subplots.AxesSubplot at 0x1233d47b8>"
      ]
     },
     "execution_count": 199,
     "metadata": {},
     "output_type": "execute_result"
    },
    {
     "data": {
      "image/png": "[encoded data removed]",
      "text/plain": [
       "<Figure size 648x360 with 1 Axes>"
      ]
     },
     "metadata": {
      "needs_background": "light"
     },
     "output_type": "display_data"
    }
   ],
   "source": [
    "#displaying max temp\n",
    "df_seattle.plot.hist(y='TMAX', bins=20)"
   ]
  },
  {
   "cell_type": "code",
   "execution_count": 205,
   "metadata": {},
   "outputs": [
    {
     "data": {
      "text/plain": [
       "<matplotlib.axes._subplots.AxesSubplot at 0x1247d4198>"
      ]
     },
     "execution_count": 205,
     "metadata": {},
     "output_type": "execute_result"
    },
    {
     "data": {
      "image/png": "[encoded data removed]",
      "text/plain": [
       "<Figure size 648x360 with 1 Axes>"
      ]
     },
     "metadata": {
      "needs_background": "light"
     },
     "output_type": "display_data"
    }
   ],
   "source": [
    "#displaying min temp\n",
    "df_seattle.plot.hist(y='TMIN', bins=20)"
   ]
  },
  {
   "cell_type": "code",
   "execution_count": 206,
   "metadata": {},
   "outputs": [
    {
     "data": {
      "text/plain": [
       "<matplotlib.axes._subplots.AxesSubplot at 0x1249114e0>"
      ]
     },
     "execution_count": 206,
     "metadata": {},
     "output_type": "execute_result"
    },
    {
     "data": {
      "image/png": "[encoded data removed]",
      "text/plain": [
       "<Figure size 648x360 with 1 Axes>"
      ]
     },
     "metadata": {
      "needs_background": "light"
     },
     "output_type": "display_data"
    }
   ],
   "source": [
    "#displaying precipitation\n",
    "df_seattle.plot.hist(y='PRCP', bins=20)\n"
   ]
  },
  {
   "cell_type": "code",
   "execution_count": 210,
   "metadata": {},
   "outputs": [
    {
     "data": {
      "text/plain": [
       "<matplotlib.axes._subplots.AxesSubplot at 0x124cbbf98>"
      ]
     },
     "execution_count": 210,
     "metadata": {},
     "output_type": "execute_result"
    },
    {
     "data": {
      "image/png": "[encoded data removed]",
      "text/plain": [
       "<Figure size 648x360 with 1 Axes>"
      ]
     },
     "metadata": {
      "needs_background": "light"
     },
     "output_type": "display_data"
    }
   ],
   "source": [
    "#displaying both max and min temps\n",
    "df_seattle.plot.hist(y=['TMAX','TMIN'], bins=10, alpha=0.7)"
   ]
  }
 ],
 "metadata": {
  "kernelspec": {
   "display_name": "Python 3",
   "language": "python",
   "name": "python3"
  },
  "language_info": {
   "codemirror_mode": {
    "name": "ipython",
    "version": 3
   },
   "file_extension": ".py",
   "mimetype": "text/x-python",
   "name": "python",
   "nbconvert_exporter": "python",
   "pygments_lexer": "ipython3",
   "version": "3.7.3"
  }
 },
 "nbformat": 4,
 "nbformat_minor": 2
}
