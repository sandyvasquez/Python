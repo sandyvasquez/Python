{
 "cells": [
  {
   "cell_type": "code",
   "execution_count": null,
   "metadata": {},
   "outputs": [],
   "source": [
    "#September 23, 2019\n",
    "#By Sandy Vasquez\n",
    "\n",
    "# If T-Rex is angry, hungry, and bored he will eat the Triceratops\n",
    "# Otherwise if T-Rex is tired and hungry, he will eat the Iguanadon\n",
    "# Otherwise if T-Rex is hungry and bored, he will eat the Stegasaurus.\n",
    "# Otherwise if T-Rex is tired, he goes to sleep\n",
    "# Otherwise if T-Rex is angry and bored, he will fight with the Velociraptor.\n",
    "# Otherwise if T-Rex is angry or bored, he roars\n",
    "# Otherwise T-Rex gives a toothy smile\n",
    "\n",
    "\n",
    "angry = True\n",
    "bored = True\n",
    "hungry = False\n",
    "tired = False\n",
    "\n",
    "# Example if statement\n",
    "if angry and hungry and bored:\n",
    "  print(\"T-Rex eats the Triceratops!\")\n",
    "elif tired and hungry:\n",
    "  print(\"T-Rex eats the Iguanadon\")\n",
    "elif hungry and bored:\n",
    "  print(\"T-Rex eats the Stegasaurus\")\n",
    "elif tired:\n",
    "  print(\"T-Rex goes to sleep.\")\n",
    "elif angry and bored:\n",
    "  print(\"T-Rex fights with the Velociraptor\")\n",
    "elif angry or bored:\n",
    "  print(\"T-Rex roars! RAWR!\")\n",
    "else:\n",
    "  print(\"T-Rex gives a toothy smile.\")"
   ]
  }
 ],
 "metadata": {
  "kernelspec": {
   "display_name": "Python 3",
   "language": "python",
   "name": "python3"
  },
  "language_info": {
   "codemirror_mode": {
    "name": "ipython",
    "version": 3
   },
   "file_extension": ".py",
   "mimetype": "text/x-python",
   "name": "python",
   "nbconvert_exporter": "python",
   "pygments_lexer": "ipython3",
   "version": "3.7.3"
  }
 },
 "nbformat": 4,
 "nbformat_minor": 2
}
