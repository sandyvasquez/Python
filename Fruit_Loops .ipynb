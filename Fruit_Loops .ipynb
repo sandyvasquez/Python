{
 "cells": [
  {
   "cell_type": "code",
   "execution_count": 1,
   "metadata": {},
   "outputs": [
    {
     "name": "stdout",
     "output_type": "stream",
     "text": [
      "Fruit Loops are yummy!\n",
      "Wheaties are yummy!\n",
      "Captain Crunch are yummy!\n"
     ]
    }
   ],
   "source": [
    "#October 13, 2019\n",
    "#By Sandy Vasquez\n",
    "\n",
    "breakfast = [\"Fruit Loops\", \"Wheaties\", \"Captain Crunch\"]\n",
    "\n",
    "# this function loops through the breakfast list\n",
    "def cereal_time():\n",
    "  for cereal in breakfast:\n",
    "    print(cereal, \"are yummy!\")\n",
    "\n",
    "cereal_time()"
   ]
  },
  {
   "cell_type": "code",
   "execution_count": 2,
   "metadata": {},
   "outputs": [
    {
     "name": "stdout",
     "output_type": "stream",
     "text": [
      "Fruit Loops are yummy!\n",
      "Wheaties are yummy!\n",
      "Captain Crunch is yummy!\n"
     ]
    }
   ],
   "source": [
    "breakfast = [\"Fruit Loops\", \"Wheaties\", \"Captain Crunch\"]\n",
    "\n",
    "def cereal_time():\n",
    "  for cereal in breakfast:\n",
    "    last_letter = cereal[-1]\n",
    "    # if the last letter of the cereal string is s, print are yummy!\n",
    "    if last_letter == \"s\":\n",
    "      print(cereal, \"are yummy!\")\n",
    "    #  if it ends in any other character, prints is yummy!.\n",
    "    else:\n",
    "      print(cereal, \"is yummy!\")\n",
    "\n",
    "cereal_time()"
   ]
  }
 ],
 "metadata": {
  "kernelspec": {
   "display_name": "Python 3",
   "language": "python",
   "name": "python3"
  },
  "language_info": {
   "codemirror_mode": {
    "name": "ipython",
    "version": 3
   },
   "file_extension": ".py",
   "mimetype": "text/x-python",
   "name": "python",
   "nbconvert_exporter": "python",
   "pygments_lexer": "ipython3",
   "version": "3.7.3"
  }
 },
 "nbformat": 4,
 "nbformat_minor": 2
}
